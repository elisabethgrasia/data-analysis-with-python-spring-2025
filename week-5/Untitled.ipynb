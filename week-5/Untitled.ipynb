{
 "cells": [
  {
   "cell_type": "code",
   "execution_count": 14,
   "id": "b354cfea-249b-489a-9085-f1eebd547a35",
   "metadata": {},
   "outputs": [
    {
     "name": "stderr",
     "output_type": "stream",
     "text": [
      "C:\\Users\\Asabeneh\\AppData\\Local\\Temp\\ipykernel_14544\\1086422989.py:6: UserWarning: pandas only supports SQLAlchemy connectable (engine/connection) or database string URI or sqlite3 DBAPI2 connection. Other DBAPI2 objects are not tested. Please consider using SQLAlchemy.\n",
      "  students_df = pd.read_sql(query, mydb)\n"
     ]
    }
   ],
   "source": [
    "import mysql.connector as connection\n",
    "import pandas as pd\n",
    "try:\n",
    "    mydb = connection.connect(host=\"localhost\", database = 'school', user=\"root\", passwd=\"root\", use_pure=True)\n",
    "    query = \"Select * from students\"\n",
    "    students_df = pd.read_sql(query, mydb)\n",
    "    #mydb.close() #close the connection\n",
    "except Exception as e:\n",
    "    # mydb.close()\n",
    "    print(str(e))"
   ]
  },
  {
   "cell_type": "code",
   "execution_count": 16,
   "id": "996ab390-3d7b-4c31-b9f3-d6604ba7ae99",
   "metadata": {},
   "outputs": [
    {
     "name": "stderr",
     "output_type": "stream",
     "text": [
      "C:\\Users\\Asabeneh\\AppData\\Local\\Temp\\ipykernel_14544\\1325545752.py:2: UserWarning: pandas only supports SQLAlchemy connectable (engine/connection) or database string URI or sqlite3 DBAPI2 connection. Other DBAPI2 objects are not tested. Please consider using SQLAlchemy.\n",
      "  courses_df = pd.read_sql(query, mydb)\n"
     ]
    }
   ],
   "source": [
    "query = \"Select * from students\"\n",
    "courses_df = pd.read_sql(query, mydb)"
   ]
  },
  {
   "cell_type": "code",
   "execution_count": 17,
   "id": "200a68ff-d26a-4792-84d1-84454dbfb003",
   "metadata": {},
   "outputs": [
    {
     "data": {
      "text/html": [
       "<div>\n",
       "<style scoped>\n",
       "    .dataframe tbody tr th:only-of-type {\n",
       "        vertical-align: middle;\n",
       "    }\n",
       "\n",
       "    .dataframe tbody tr th {\n",
       "        vertical-align: top;\n",
       "    }\n",
       "\n",
       "    .dataframe thead th {\n",
       "        text-align: right;\n",
       "    }\n",
       "</style>\n",
       "<table border=\"1\" class=\"dataframe\">\n",
       "  <thead>\n",
       "    <tr style=\"text-align: right;\">\n",
       "      <th></th>\n",
       "      <th>StudentID</th>\n",
       "      <th>StudentName</th>\n",
       "      <th>Age</th>\n",
       "      <th>Email</th>\n",
       "      <th>EnrollmentDate</th>\n",
       "      <th>Major</th>\n",
       "    </tr>\n",
       "  </thead>\n",
       "  <tbody>\n",
       "    <tr>\n",
       "      <th>0</th>\n",
       "      <td>1</td>\n",
       "      <td>Alice</td>\n",
       "      <td>20</td>\n",
       "      <td>alice@school.com</td>\n",
       "      <td>2023-09-01</td>\n",
       "      <td>Computer Science</td>\n",
       "    </tr>\n",
       "    <tr>\n",
       "      <th>1</th>\n",
       "      <td>2</td>\n",
       "      <td>Bob</td>\n",
       "      <td>21</td>\n",
       "      <td>bob@school.com</td>\n",
       "      <td>2023-09-01</td>\n",
       "      <td>Biology</td>\n",
       "    </tr>\n",
       "    <tr>\n",
       "      <th>2</th>\n",
       "      <td>3</td>\n",
       "      <td>Charlie</td>\n",
       "      <td>19</td>\n",
       "      <td>charlie@school.com</td>\n",
       "      <td>2024-01-15</td>\n",
       "      <td>History</td>\n",
       "    </tr>\n",
       "    <tr>\n",
       "      <th>3</th>\n",
       "      <td>4</td>\n",
       "      <td>Diana</td>\n",
       "      <td>22</td>\n",
       "      <td>diana@school.com</td>\n",
       "      <td>2022-09-01</td>\n",
       "      <td>Art</td>\n",
       "    </tr>\n",
       "  </tbody>\n",
       "</table>\n",
       "</div>"
      ],
      "text/plain": [
       "   StudentID StudentName  Age               Email EnrollmentDate  \\\n",
       "0          1       Alice   20    alice@school.com     2023-09-01   \n",
       "1          2         Bob   21      bob@school.com     2023-09-01   \n",
       "2          3     Charlie   19  charlie@school.com     2024-01-15   \n",
       "3          4       Diana   22    diana@school.com     2022-09-01   \n",
       "\n",
       "              Major  \n",
       "0  Computer Science  \n",
       "1           Biology  \n",
       "2           History  \n",
       "3               Art  "
      ]
     },
     "execution_count": 17,
     "metadata": {},
     "output_type": "execute_result"
    }
   ],
   "source": [
    "courses_df"
   ]
  },
  {
   "cell_type": "code",
   "execution_count": null,
   "id": "397dbbc6-51dd-4128-b2ef-d94903879730",
   "metadata": {},
   "outputs": [],
   "source": [
    "query = \"Select * from students\"\n",
    "courses_df = pd.read_sql(query, mydb)"
   ]
  }
 ],
 "metadata": {
  "kernelspec": {
   "display_name": "Python 3 (ipykernel)",
   "language": "python",
   "name": "python3"
  },
  "language_info": {
   "codemirror_mode": {
    "name": "ipython",
    "version": 3
   },
   "file_extension": ".py",
   "mimetype": "text/x-python",
   "name": "python",
   "nbconvert_exporter": "python",
   "pygments_lexer": "ipython3",
   "version": "3.12.7"
  }
 },
 "nbformat": 4,
 "nbformat_minor": 5
}
